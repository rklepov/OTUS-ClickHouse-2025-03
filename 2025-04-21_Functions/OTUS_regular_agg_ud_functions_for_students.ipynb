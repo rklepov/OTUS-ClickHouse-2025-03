{
  "nbformat": 4,
  "nbformat_minor": 0,
  "metadata": {
    "colab": {
      "provenance": [],
      "include_colab_link": true
    },
    "kernelspec": {
      "name": "python3",
      "display_name": "Python 3"
    },
    "language_info": {
      "name": "python"
    }
  },
  "cells": [
    {
      "cell_type": "markdown",
      "metadata": {
        "id": "view-in-github",
        "colab_type": "text"
      },
      "source": [
        "<a href=\"https://colab.research.google.com/github/rklepov/OTUS-ClickHouse-2025-03/blob/main/2025-04-21_Functions/OTUS_regular_agg_ud_functions_for_students.ipynb\" target=\"_parent\"><img src=\"https://colab.research.google.com/assets/colab-badge.svg\" alt=\"Open In Colab\"/></a>"
      ]
    },
    {
      "cell_type": "markdown",
      "metadata": {
        "id": "yieKa6Qja7ud"
      },
      "source": [
        "### Настройка ClickHouse"
      ]
    },
    {
      "cell_type": "code",
      "metadata": {
        "id": "N3s1vd-CKMu6",
        "colab": {
          "base_uri": "https://localhost:8080/"
        },
        "outputId": "3bca8bfa-231b-4cdf-ccee-7e369164af4c"
      },
      "source": [
        "# Установка ClickHouse\n",
        "# Во время загрузки потребует ввести ПАРОЛЬ!\n",
        "# Если в конце будет Ok! значит установка завершена\n",
        "!sudo apt-get update\n",
        "!sudo apt-get install curl gnupg2 apt-transport-https ca-certificates\n",
        "!sudo sh -c 'mkdir -p /usr/share/keyrings && curl -s https://builds.altinity.cloud/apt-repo/pubkey.gpg | gpg --dearmor > /usr/share/keyrings/altinity-archive-keyring.gpg'\n",
        "!sudo sh -c 'echo \"deb [signed-by=/usr/share/keyrings/altinity-archive-keyring.gpg] https://builds.altinity.cloud/apt-repo stable main\" > /etc/apt/sources.list.d/altinity-dev.list'\n",
        "!sudo apt-get update\n",
        "#!sudo apt-get install clickhouse-common-static=21.8.10.1.altinitystable clickhouse-client=21.8.10.1.altinitystable clickhouse-server=21.8.10.1.altinitystable\n",
        "!sudo apt-get install clickhouse-common-static=25.3.2.39.altinitystable clickhouse-client=25.3.2.39.altinitystable clickhouse-server=25.3.2.39.altinitystable\n",
        "!sudo apt-get install clickhouse-client clickhouse-server\n",
        "\n",
        "!sudo service clickhouse-server start\n",
        "!sudo service clickhouse-server status\n",
        "!curl localhost:8123"
      ],
      "execution_count": null,
      "outputs": [
        {
          "output_type": "stream",
          "name": "stdout",
          "text": [
            "Get:1 http://security.ubuntu.com/ubuntu jammy-security InRelease [129 kB]\n",
            "Get:2 https://cloud.r-project.org/bin/linux/ubuntu jammy-cran40/ InRelease [3,632 B]\n",
            "Get:3 https://developer.download.nvidia.com/compute/cuda/repos/ubuntu2204/x86_64  InRelease [1,581 B]\n",
            "Get:4 https://r2u.stat.illinois.edu/ubuntu jammy InRelease [6,555 B]\n",
            "Hit:5 http://archive.ubuntu.com/ubuntu jammy InRelease\n",
            "Get:6 http://archive.ubuntu.com/ubuntu jammy-updates InRelease [128 kB]\n",
            "Hit:7 https://ppa.launchpadcontent.net/deadsnakes/ppa/ubuntu jammy InRelease\n",
            "Hit:8 https://ppa.launchpadcontent.net/graphics-drivers/ppa/ubuntu jammy InRelease\n",
            "Get:9 https://cloud.r-project.org/bin/linux/ubuntu jammy-cran40/ Packages [75.2 kB]\n",
            "Hit:10 https://ppa.launchpadcontent.net/ubuntugis/ppa/ubuntu jammy InRelease\n",
            "Hit:11 http://archive.ubuntu.com/ubuntu jammy-backports InRelease\n",
            "Get:12 https://developer.download.nvidia.com/compute/cuda/repos/ubuntu2204/x86_64  Packages [1,604 kB]\n",
            "Get:13 https://r2u.stat.illinois.edu/ubuntu jammy/main all Packages [8,842 kB]\n",
            "Get:14 http://security.ubuntu.com/ubuntu jammy-security/main amd64 Packages [2,788 kB]\n",
            "Get:15 http://security.ubuntu.com/ubuntu jammy-security/universe amd64 Packages [1,243 kB]\n",
            "Get:16 https://r2u.stat.illinois.edu/ubuntu jammy/main amd64 Packages [2,695 kB]\n",
            "Get:17 http://archive.ubuntu.com/ubuntu jammy-updates/main amd64 Packages [3,140 kB]\n",
            "Get:18 http://archive.ubuntu.com/ubuntu jammy-updates/universe amd64 Packages [1,542 kB]\n",
            "Fetched 22.2 MB in 11s (1,936 kB/s)\n",
            "Reading package lists... Done\n",
            "W: Skipping acquire of configured file 'main/source/Sources' as repository 'https://r2u.stat.illinois.edu/ubuntu jammy InRelease' does not seem to provide it (sources.list entry misspelt?)\n",
            "Reading package lists... Done\n",
            "Building dependency tree... Done\n",
            "Reading state information... Done\n",
            "ca-certificates is already the newest version (20240203~22.04.1).\n",
            "curl is already the newest version (7.81.0-1ubuntu1.20).\n",
            "gnupg2 is already the newest version (2.2.27-3ubuntu2.3).\n",
            "The following NEW packages will be installed:\n",
            "  apt-transport-https\n",
            "0 upgraded, 1 newly installed, 0 to remove and 41 not upgraded.\n",
            "Need to get 1,510 B of archives.\n",
            "After this operation, 170 kB of additional disk space will be used.\n",
            "Get:1 http://archive.ubuntu.com/ubuntu jammy-updates/universe amd64 apt-transport-https all 2.4.13 [1,510 B]\n",
            "Fetched 1,510 B in 0s (4,953 B/s)\n",
            "debconf: unable to initialize frontend: Dialog\n",
            "debconf: (No usable dialog-like program is installed, so the dialog based frontend cannot be used. at /usr/share/perl5/Debconf/FrontEnd/Dialog.pm line 78, <> line 1.)\n",
            "debconf: falling back to frontend: Readline\n",
            "debconf: unable to initialize frontend: Readline\n",
            "debconf: (This frontend requires a controlling tty.)\n",
            "debconf: falling back to frontend: Teletype\n",
            "dpkg-preconfigure: unable to re-open stdin: \n",
            "Selecting previously unselected package apt-transport-https.\n",
            "(Reading database ... 126332 files and directories currently installed.)\n",
            "Preparing to unpack .../apt-transport-https_2.4.13_all.deb ...\n",
            "Unpacking apt-transport-https (2.4.13) ...\n",
            "Setting up apt-transport-https (2.4.13) ...\n",
            "Get:1 https://builds.altinity.cloud/apt-repo stable InRelease [9,197 B]\n",
            "Hit:2 https://developer.download.nvidia.com/compute/cuda/repos/ubuntu2204/x86_64  InRelease\n",
            "Hit:3 https://cloud.r-project.org/bin/linux/ubuntu jammy-cran40/ InRelease\n",
            "Hit:4 http://security.ubuntu.com/ubuntu jammy-security InRelease\n",
            "Hit:5 http://archive.ubuntu.com/ubuntu jammy InRelease\n",
            "Hit:6 https://r2u.stat.illinois.edu/ubuntu jammy InRelease\n",
            "Hit:7 http://archive.ubuntu.com/ubuntu jammy-updates InRelease\n",
            "Get:8 https://builds.altinity.cloud/apt-repo stable/main all Packages [6,453 B]\n",
            "Hit:9 http://archive.ubuntu.com/ubuntu jammy-backports InRelease\n",
            "Hit:10 https://ppa.launchpadcontent.net/deadsnakes/ppa/ubuntu jammy InRelease\n",
            "Get:11 https://builds.altinity.cloud/apt-repo stable/main amd64 Packages [23.3 kB]\n",
            "Hit:12 https://ppa.launchpadcontent.net/graphics-drivers/ppa/ubuntu jammy InRelease\n",
            "Hit:13 https://ppa.launchpadcontent.net/ubuntugis/ppa/ubuntu jammy InRelease\n",
            "Fetched 38.9 kB in 3s (14.5 kB/s)\n",
            "Reading package lists... Done\n",
            "W: Skipping acquire of configured file 'main/source/Sources' as repository 'https://r2u.stat.illinois.edu/ubuntu jammy InRelease' does not seem to provide it (sources.list entry misspelt?)\n",
            "Reading package lists... Done\n",
            "Building dependency tree... Done\n",
            "Reading state information... Done\n",
            "Package clickhouse-client is not available, but is referred to by another package.\n",
            "This may mean that the package is missing, has been obsoleted, or\n",
            "is only available from another source\n",
            "\n",
            "Package clickhouse-common-static is not available, but is referred to by another package.\n",
            "This may mean that the package is missing, has been obsoleted, or\n",
            "is only available from another source\n",
            "\n",
            "Package clickhouse-server is not available, but is referred to by another package.\n",
            "This may mean that the package is missing, has been obsoleted, or\n",
            "is only available from another source\n",
            "\n",
            "E: Version '25.3.2.39.altinitystable' for 'clickhouse-common-static' was not found\n",
            "E: Version '25.3.2.39.altinitystable' for 'clickhouse-client' was not found\n",
            "E: Version '25.3.2.39.altinitystable' for 'clickhouse-server' was not found\n",
            "Reading package lists... Done\n",
            "Building dependency tree... Done\n",
            "Reading state information... Done\n",
            "The following additional packages will be installed:\n",
            "  clickhouse-common-static\n",
            "Suggested packages:\n",
            "  clickhouse-common-static-dbg\n",
            "The following NEW packages will be installed:\n",
            "  clickhouse-client clickhouse-common-static clickhouse-server\n",
            "0 upgraded, 3 newly installed, 0 to remove and 41 not upgraded.\n",
            "Need to get 147 MB of archives.\n",
            "After this operation, 512 MB of additional disk space will be used.\n",
            "Get:1 https://builds.altinity.cloud/apt-repo stable/main amd64 clickhouse-common-static amd64 24.8.14.10459.altinitystable [146 MB]\n",
            "Get:2 https://builds.altinity.cloud/apt-repo stable/main amd64 clickhouse-client amd64 24.8.14.10459.altinitystable [80.0 kB]\n",
            "Get:3 https://builds.altinity.cloud/apt-repo stable/main amd64 clickhouse-server amd64 24.8.14.10459.altinitystable [108 kB]\n",
            "Fetched 147 MB in 7s (21.7 MB/s)\n",
            "debconf: unable to initialize frontend: Dialog\n",
            "debconf: (No usable dialog-like program is installed, so the dialog based frontend cannot be used. at /usr/share/perl5/Debconf/FrontEnd/Dialog.pm line 78, <> line 3.)\n",
            "debconf: falling back to frontend: Readline\n",
            "debconf: unable to initialize frontend: Readline\n",
            "debconf: (This frontend requires a controlling tty.)\n",
            "debconf: falling back to frontend: Teletype\n",
            "dpkg-preconfigure: unable to re-open stdin: \n",
            "Selecting previously unselected package clickhouse-common-static.\n",
            "(Reading database ... 126336 files and directories currently installed.)\n",
            "Preparing to unpack .../clickhouse-common-static_24.8.14.10459.altinitystable_amd64.deb ...\n",
            "Unpacking clickhouse-common-static (24.8.14.10459.altinitystable) ...\n",
            "Selecting previously unselected package clickhouse-client.\n",
            "Preparing to unpack .../clickhouse-client_24.8.14.10459.altinitystable_amd64.deb ...\n",
            "Unpacking clickhouse-client (24.8.14.10459.altinitystable) ...\n",
            "Selecting previously unselected package clickhouse-server.\n",
            "Preparing to unpack .../clickhouse-server_24.8.14.10459.altinitystable_amd64.deb ...\n",
            "Unpacking clickhouse-server (24.8.14.10459.altinitystable) ...\n",
            "Setting up clickhouse-common-static (24.8.14.10459.altinitystable) ...\n",
            "Setting up clickhouse-server (24.8.14.10459.altinitystable) ...\n",
            "debconf: unable to initialize frontend: Dialog\n",
            "debconf: (No usable dialog-like program is installed, so the dialog based frontend cannot be used. at /usr/share/perl5/Debconf/FrontEnd/Dialog.pm line 78.)\n",
            "debconf: falling back to frontend: Readline\n",
            "ClickHouse binary is already located at /usr/bin/clickhouse\n",
            "Symlink /usr/bin/clickhouse-server already exists but it points to /clickhouse. Will replace the old symlink to /usr/bin/clickhouse.\n",
            "Creating symlink /usr/bin/clickhouse-server to /usr/bin/clickhouse.\n",
            "Symlink /usr/bin/clickhouse-client already exists but it points to /clickhouse. Will replace the old symlink to /usr/bin/clickhouse.\n",
            "Creating symlink /usr/bin/clickhouse-client to /usr/bin/clickhouse.\n",
            "Symlink /usr/bin/clickhouse-local already exists but it points to /clickhouse. Will replace the old symlink to /usr/bin/clickhouse.\n",
            "Creating symlink /usr/bin/clickhouse-local to /usr/bin/clickhouse.\n",
            "Symlink /usr/bin/clickhouse-benchmark already exists but it points to /clickhouse. Will replace the old symlink to /usr/bin/clickhouse.\n",
            "Creating symlink /usr/bin/clickhouse-benchmark to /usr/bin/clickhouse.\n",
            "Symlink /usr/bin/clickhouse-obfuscator already exists but it points to /clickhouse. Will replace the old symlink to /usr/bin/clickhouse.\n",
            "Creating symlink /usr/bin/clickhouse-obfuscator to /usr/bin/clickhouse.\n",
            "Creating symlink /usr/bin/clickhouse-git-import to /usr/bin/clickhouse.\n",
            "Symlink /usr/bin/clickhouse-compressor already exists but it points to /clickhouse. Will replace the old symlink to /usr/bin/clickhouse.\n",
            "Creating symlink /usr/bin/clickhouse-compressor to /usr/bin/clickhouse.\n",
            "Symlink /usr/bin/clickhouse-format already exists but it points to /clickhouse. Will replace the old symlink to /usr/bin/clickhouse.\n",
            "Creating symlink /usr/bin/clickhouse-format to /usr/bin/clickhouse.\n",
            "Symlink /usr/bin/clickhouse-extract-from-config already exists but it points to /clickhouse. Will replace the old symlink to /usr/bin/clickhouse.\n",
            "Creating symlink /usr/bin/clickhouse-extract-from-config to /usr/bin/clickhouse.\n",
            "Symlink /usr/bin/clickhouse-keeper already exists but it points to /clickhouse. Will replace the old symlink to /usr/bin/clickhouse.\n",
            "Creating symlink /usr/bin/clickhouse-keeper to /usr/bin/clickhouse.\n",
            "Symlink /usr/bin/clickhouse-keeper-converter already exists but it points to /clickhouse. Will replace the old symlink to /usr/bin/clickhouse.\n",
            "Creating symlink /usr/bin/clickhouse-keeper-converter to /usr/bin/clickhouse.\n",
            "Creating symlink /usr/bin/clickhouse-disks to /usr/bin/clickhouse.\n",
            "Symlink /usr/bin/ch already exists. Will keep it.\n",
            "Symlink /usr/bin/chl already exists. Will keep it.\n",
            "Symlink /usr/bin/chc already exists. Will keep it.\n",
            "Creating clickhouse group if it does not exist.\n",
            " groupadd -r clickhouse\n",
            "Creating clickhouse user if it does not exist.\n",
            " useradd -r --shell /bin/false --home-dir /nonexistent -g clickhouse clickhouse\n",
            "Will set ulimits for clickhouse user in /etc/security/limits.d/clickhouse.conf.\n",
            "Creating config directory /etc/clickhouse-server/config.d that is used for tweaks of main server configuration.\n",
            "Creating config directory /etc/clickhouse-server/users.d that is used for tweaks of users configuration.\n",
            "Config file /etc/clickhouse-server/config.xml already exists, will keep it and extract path info from it.\n",
            "/etc/clickhouse-server/config.xml has /var/lib/clickhouse/ as data path.\n",
            "/etc/clickhouse-server/config.xml has /var/log/clickhouse-server/ as log path.\n",
            "Users config file /etc/clickhouse-server/users.xml already exists, will keep it and extract users info from it.\n",
            "Creating log directory /var/log/clickhouse-server/.\n",
            "Creating data directory /var/lib/clickhouse/.\n",
            "Creating pid directory /var/run/clickhouse-server.\n",
            " chown -R clickhouse:clickhouse '/var/log/clickhouse-server/'\n",
            " chown -R clickhouse:clickhouse '/var/run/clickhouse-server'\n",
            " chown  clickhouse:clickhouse '/var/lib/clickhouse/'\n",
            "Enter password for the default user: \n",
            "\u001b[1mPassword for the default user is saved in file /etc/clickhouse-server/users.d/default-password.xml.\u001b[0m\n",
            "Setting capabilities for clickhouse binary. This is optional.\n",
            "Cannot set 'net_admin' or 'ipc_lock' or 'sys_nice' or 'net_bind_service' capability for clickhouse binary. This is optional. Taskstats accounting will be disabled. To enable taskstats accounting you may add the required capability later manually.\n",
            " chown -R clickhouse:clickhouse '/etc/clickhouse-server'\n",
            "\n",
            "ClickHouse has been successfully installed.\n",
            "\n",
            "Start clickhouse-server with:\n",
            " sudo clickhouse start\n",
            "\n",
            "Start clickhouse-client with:\n",
            " clickhouse-client --password\n",
            "\n",
            "Setting up clickhouse-client (24.8.14.10459.altinitystable) ...\n",
            " chown -R clickhouse: '/var/run/clickhouse-server/'\n",
            "Will run sudo --preserve-env -u 'clickhouse' /usr/bin/clickhouse-server --config-file /etc/clickhouse-server/config.xml --pid-file /var/run/clickhouse-server/clickhouse-server.pid --daemon\n",
            "Waiting for server to start\n",
            "Waiting for server to start\n",
            "Server started\n",
            "/var/run/clickhouse-server/clickhouse-server.pid file exists and contains pid = 2117.\n",
            "The process with pid = 2117 is running.\n",
            "Ok.\n"
          ]
        }
      ]
    },
    {
      "cell_type": "code",
      "metadata": {
        "id": "IzVKPSyFK0Np",
        "colab": {
          "base_uri": "https://localhost:8080/"
        },
        "outputId": "827b40de-8ad4-4bd5-8363-d51ecf4cdc45"
      },
      "source": [
        "# Если хочется поработать с ClickHouse не через Colab\n",
        "# Регаемся на https://ngrok.com/\n",
        "# ngrok — это сервис, который позволяет открыть доступ к внутренним ресурсам машины,\n",
        "# на которой он запущен, из внешней сети, путем создания публичного адреса,\n",
        "# все запросы на который будут переброшены на локальный адрес и заданный порт.\n",
        "\n",
        "!pip install pyngrok\n",
        "\n",
        "# токен можно найти тут https://dashboard.ngrok.com/get-started/setup\n",
        "!ngrok authtoken 2kNHm66ePlrYxnCzGLuUTBMCel6_7NCxMyaffUuW99134h1VY\n",
        "\n",
        "# Эта команда отображет веб морду на другой адрес\n",
        "# Адрес можно посмотреть тут https://dashboard.ngrok.com/cloud-edge/endpoints\n",
        "!nohup ngrok http 8123 > /dev/null &\n",
        "\n",
        "# Не забудьте в адресную строку дописать /play, чтобы видеть не просто \"Ок.\", а приложение, в которое можно писать запросы\n",
        "# должно получится что-то вида https://eef0-34-74-98-209.ngrok-free.app/play"
      ],
      "execution_count": null,
      "outputs": [
        {
          "output_type": "stream",
          "name": "stdout",
          "text": [
            "Requirement already satisfied: pyngrok in /usr/local/lib/python3.11/dist-packages (7.2.4)\n",
            "Requirement already satisfied: PyYAML>=5.1 in /usr/local/lib/python3.11/dist-packages (from pyngrok) (6.0.2)\n",
            "Authtoken saved to configuration file: /root/.config/ngrok/ngrok.yml\n",
            "nohup: redirecting stderr to stdout\n"
          ]
        }
      ]
    },
    {
      "cell_type": "code",
      "source": [
        "# Работать будем через TCP-протокол, который реализован через библиотеку clickhouse-driver\n",
        "!pip install clickhouse-driver"
      ],
      "metadata": {
        "colab": {
          "base_uri": "https://localhost:8080/"
        },
        "id": "Mg6Gz7amJMXx",
        "outputId": "5cdf3477-62ba-4f1b-aaad-9e03543015c2"
      },
      "execution_count": null,
      "outputs": [
        {
          "output_type": "stream",
          "name": "stdout",
          "text": [
            "Collecting clickhouse-driver\n",
            "  Downloading clickhouse_driver-0.2.9-cp311-cp311-manylinux_2_17_x86_64.manylinux2014_x86_64.whl.metadata (6.1 kB)\n",
            "Requirement already satisfied: pytz in /usr/local/lib/python3.11/dist-packages (from clickhouse-driver) (2025.2)\n",
            "Requirement already satisfied: tzlocal in /usr/local/lib/python3.11/dist-packages (from clickhouse-driver) (5.3.1)\n",
            "Downloading clickhouse_driver-0.2.9-cp311-cp311-manylinux_2_17_x86_64.manylinux2014_x86_64.whl (1.0 MB)\n",
            "\u001b[2K   \u001b[90m━━━━━━━━━━━━━━━━━━━━━━━━━━━━━━━━━━━━━━━━\u001b[0m \u001b[32m1.0/1.0 MB\u001b[0m \u001b[31m17.5 MB/s\u001b[0m eta \u001b[36m0:00:00\u001b[0m\n",
            "\u001b[?25hInstalling collected packages: clickhouse-driver\n",
            "Successfully installed clickhouse-driver-0.2.9\n"
          ]
        }
      ]
    },
    {
      "cell_type": "code",
      "source": [
        "from clickhouse_driver import Client\n",
        "\n",
        "client = Client(host='localhost', user='default', password='12345')"
      ],
      "metadata": {
        "id": "13ZnOfLxbOSh"
      },
      "execution_count": null,
      "outputs": []
    },
    {
      "cell_type": "code",
      "source": [
        "from google.colab import drive\n",
        "drive.mount('/content/drive')"
      ],
      "metadata": {
        "id": "IYz54R0hOvW2"
      },
      "execution_count": null,
      "outputs": []
    },
    {
      "cell_type": "markdown",
      "source": [
        "# REGULAR FUNCTIONS"
      ],
      "metadata": {
        "id": "29hN0ED1bnzN"
      }
    },
    {
      "cell_type": "markdown",
      "source": [
        "[Типы данных в ClickHouse](https://clickhouse.com/docs/en/sql-reference/data-types)"
      ],
      "metadata": {
        "id": "qWWPUe97g-hZ"
      }
    },
    {
      "cell_type": "markdown",
      "source": [
        "### Conditional"
      ],
      "metadata": {
        "id": "gfVcqHWkN2RU"
      }
    },
    {
      "cell_type": "code",
      "source": [
        "# if(cond, then, else)\n",
        "client.execute(\"SELECT if(False, 2+2, 2+6)\")"
      ],
      "metadata": {
        "colab": {
          "base_uri": "https://localhost:8080/"
        },
        "id": "TK3WeDL8l3mz",
        "outputId": "e9ae0656-4d7e-4c9b-906f-c39bf09cabd2"
      },
      "execution_count": null,
      "outputs": [
        {
          "output_type": "execute_result",
          "data": {
            "text/plain": [
              "[(8,)]"
            ]
          },
          "metadata": {},
          "execution_count": 23
        }
      ]
    },
    {
      "cell_type": "code",
      "source": [
        "client.execute( '''\n",
        "select\n",
        "   1 as num,\n",
        "   case\n",
        "     when num = 3 then 'third'\n",
        "     when num = 2 then 'second'\n",
        "     when num = 1 then 'first'\n",
        "     else 'zero'\n",
        "   end\n",
        "''')\n",
        "\n",
        "client.execute('''\n",
        "select\n",
        "   10 as num,\n",
        "   multiIf(num=1, 'first', num=2, 'second', 'third')\n",
        "   ''')"
      ],
      "metadata": {
        "colab": {
          "base_uri": "https://localhost:8080/"
        },
        "id": "s8kendmElmz1",
        "outputId": "8939e1cb-daac-463d-cd88-e2a512ac90f1"
      },
      "execution_count": null,
      "outputs": [
        {
          "output_type": "execute_result",
          "data": {
            "text/plain": [
              "[(10, 'third')]"
            ]
          },
          "metadata": {},
          "execution_count": 11
        }
      ]
    },
    {
      "cell_type": "code",
      "source": [
        "# Движок LOG Движки разработаны для сценариев,\n",
        "# когда необходимо быстро записывать много таблиц с небольшим объёмом данных\n",
        "# (менее 1 миллиона строк), а затем читать их целиком.\n",
        "# используем как временную таблицу или как промежуточную\n",
        "client.execute('''\n",
        "CREATE TABLE table1\n",
        "(\n",
        "    id UInt64,\n",
        "    name String,\n",
        "    date DateTime,\n",
        "    score UInt64\n",
        ")\n",
        "ENGINE = Log\n",
        "''')\n",
        "\n",
        "client.execute('''\n",
        "INSERT INTO table1 (*) VALUES (0, 'Max', '2020-01-01', 50),\n",
        "(1, 'Dan', '2020-01-01', 12),\n",
        "(2, 'Alex', '2020-01-01', 95),\n",
        "(3, 'Alex', '2020-01-02', 12),\n",
        "(4, 'Max', '2020-01-02', 66),\n",
        "(5, 'Dan', '2020-01-02', 69),\n",
        "(6, 'Dan', '2020-01-03', 18),\n",
        "(7, 'Alex', '2020-01-03', 66),\n",
        "(8, 'Max', '2020-01-03', 86)\n",
        "''')"
      ],
      "metadata": {
        "colab": {
          "base_uri": "https://localhost:8080/"
        },
        "id": "3S2GZRpOn2Nd",
        "outputId": "abe0296d-c537-478f-9603-b486dc1694f5"
      },
      "execution_count": null,
      "outputs": [
        {
          "output_type": "execute_result",
          "data": {
            "text/plain": [
              "[]"
            ]
          },
          "metadata": {},
          "execution_count": 8
        }
      ]
    },
    {
      "cell_type": "code",
      "source": [
        "# alias\n",
        "client.execute('''\n",
        "select id as d\n",
        "  , d/2\n",
        "from table1\n",
        "where like(name, '%A%')\n",
        "''')"
      ],
      "metadata": {
        "id": "isDa7QQTrfIu"
      },
      "execution_count": null,
      "outputs": []
    },
    {
      "cell_type": "code",
      "source": [
        "# ilike, notLike like(haystack, pattern)\n",
        "client.execute('''\n",
        "select *\n",
        "from table1\n",
        "where like(name, '%A%')\n",
        "''')"
      ],
      "metadata": {
        "colab": {
          "base_uri": "https://localhost:8080/"
        },
        "id": "BrJLjx_BpEje",
        "outputId": "20eb4cba-354f-4f78-cc66-f35940544b33"
      },
      "execution_count": null,
      "outputs": [
        {
          "output_type": "execute_result",
          "data": {
            "text/plain": [
              "[(2, 'Alex', datetime.datetime(2020, 1, 1, 0, 0), 95),\n",
              " (3, 'Alex', datetime.datetime(2020, 1, 2, 0, 0), 72),\n",
              " (7, 'Alex', datetime.datetime(2020, 1, 3, 0, 0), 60)]"
            ]
          },
          "metadata": {},
          "execution_count": 26
        }
      ]
    },
    {
      "cell_type": "markdown",
      "source": [
        "### DateTime functions"
      ],
      "metadata": {
        "id": "iZgoBduJNVou"
      }
    },
    {
      "cell_type": "markdown",
      "source": [
        "Для хранения времени в ClickHouse и во многих других базах данных и языках используется так называемый Unix timestamp — это числовое представление времени. За старт берётся 1 января 1970 года, после чего прибавляется некоторое количество секунд, это и является представлением времени. Но в основном оно показывается в виде даты и времени, к которым мы привыкли."
      ],
      "metadata": {
        "id": "M7YN8nSrzCCR"
      }
    },
    {
      "cell_type": "code",
      "source": [
        "# now([timezone])\n",
        "\n",
        "\n",
        "client.execute(\"select * FROM system.time_zones\") #список доступных таймзон\n",
        "\n",
        "client.execute(\"SELECT now(), today(), now() - interval 1 day\")\n",
        "\n",
        "# toYYYYMM() Переводит дату или дату со временем в число типа UInt32, содержащее номер года и месяца (YYYY * 100 + MM)."
      ],
      "metadata": {
        "colab": {
          "base_uri": "https://localhost:8080/"
        },
        "id": "tX6oE9l7meYH",
        "outputId": "cee9cd59-9262-4e15-9db5-ed0a4e563e50"
      },
      "execution_count": null,
      "outputs": [
        {
          "output_type": "execute_result",
          "data": {
            "text/plain": [
              "[(datetime.datetime(2024, 10, 12, 21, 21, 12),\n",
              "  datetime.date(2024, 10, 12),\n",
              "  datetime.datetime(2024, 10, 11, 21, 21, 12),\n",
              "  202410)]"
            ]
          },
          "metadata": {},
          "execution_count": 27
        }
      ]
    },
    {
      "cell_type": "code",
      "source": [
        "# toDate() переводит в локальное время, если не указано другое\n",
        "client.execute('''\n",
        "select\n",
        "  toDateTime('2024-10-01 23:00:00') as dt\n",
        "  , toDate(dt) as date_local\n",
        "  , toDate(dt, 'Asia/Yekaterinburg') AS date_yekat\n",
        "  , toString(dt, 'US/Samoa') AS time_samoa\n",
        "  , parseDateTimeBestEffort(time_samoa) as parsing_dt\n",
        "  , toStartOfWeek(dt, 1) as week_dt\n",
        "  , formatDateTime(dt, '%Y_%m_%d') AS formatted_date\n",
        "  , toDate(arrayJoin(range(toUInt32(today()), toUInt32(today()) + 30))) AS date\n",
        "''')\n",
        "\n",
        "# В ClickHouse существуют различные функции для преобразования строки в дату и время.\n",
        "# Например, самая простая функция toDateTime предполагает, что дата будет записана в\n",
        "# удобочитаемом виде YYYY-MM-DD HH:MM:SS к которому мы все привыкли.\n",
        "\n",
        "# Однако для более сложных комбинаций существуют функции, такие как parseDateTimeBestEffort(),\n",
        "# которая попытается подставить подходящую дату. Но и она не справится со всеми возможными форматами\n",
        "# Nov 30, 2016 12:00:00 PDT"
      ],
      "metadata": {
        "colab": {
          "base_uri": "https://localhost:8080/"
        },
        "id": "QEVf3IlQnL9_",
        "outputId": "3d78a5c2-d16d-4672-b452-e237d9776f1b"
      },
      "execution_count": null,
      "outputs": [
        {
          "output_type": "execute_result",
          "data": {
            "text/plain": [
              "[(datetime.datetime(2024, 10, 1, 23, 0),\n",
              "  datetime.date(2024, 10, 1),\n",
              "  datetime.date(2024, 10, 2),\n",
              "  '2024-10-01 12:00:00',\n",
              "  datetime.datetime(2024, 10, 1, 12, 0),\n",
              "  datetime.date(2024, 9, 30))]"
            ]
          },
          "metadata": {},
          "execution_count": 9
        }
      ]
    },
    {
      "cell_type": "code",
      "source": [
        "# Null в формате dateTime - '1970-01-01'\n",
        "client.execute('''\n",
        "select\n",
        "  toDate('2024-01-01') as first_dt\n",
        "  , toDate('2023-10-29') as second_dt\n",
        "  , dateDiff('day', second_dt, first_dt) as day_diff\n",
        "  , dateDiff('month', second_dt, first_dt) as month_diff\n",
        "  , dateDiff('year', second_dt, first_dt) as year_diff\n",
        "''')\n",
        "\n",
        "# date_diff('unit', startdate, enddate, [timezone])"
      ],
      "metadata": {
        "colab": {
          "base_uri": "https://localhost:8080/"
        },
        "id": "kG4kdWIYOofy",
        "outputId": "6c825443-caa9-41e6-d370-b979fdc36734"
      },
      "execution_count": null,
      "outputs": [
        {
          "output_type": "execute_result",
          "data": {
            "text/plain": [
              "[(datetime.date(2024, 1, 1), datetime.date(2023, 10, 29), 64, 3, 1)]"
            ]
          },
          "metadata": {},
          "execution_count": 6
        }
      ]
    },
    {
      "cell_type": "markdown",
      "source": [
        "### Array functions"
      ],
      "metadata": {
        "id": "vlZdiGryNMbp"
      }
    },
    {
      "cell_type": "markdown",
      "source": [
        "Массивы — это ещё один тип данных, представляющий собой итерабельный список элементов. Он чем-то похож на list в языке Python. Этот инструмент весьма полезен при сложной обработке данных, а также позволяет заменять оконные функции, которые появились в ClickHouse совсем недавно. Массив может состоять только из одного типа данных. К элементам массива можно обращаться через индекс  [2]\n",
        "\n"
      ],
      "metadata": {
        "id": "A2BuA1yiyMye"
      }
    },
    {
      "cell_type": "markdown",
      "source": [
        "Теперь попробуем применить к этому lambda функцию. Если вы знакомы с Python, то такая конструкция вас не удивит. Это некоторая неименованная функция. Чтобы применить её к нашему массиву, используют arrayMap (или другие аналогичные функции, например, arrayFilter)."
      ],
      "metadata": {
        "id": "X30nPVPjyYzu"
      }
    },
    {
      "cell_type": "code",
      "source": [
        "client.execute('''\n",
        "SELECT [1,4,3,2] as array_1,\n",
        "  array_1[1] as first,\n",
        "  array_1[-1] as last,\n",
        "  arraySum(array_1) as sum_array,\n",
        "  reverse(array_1) as rev_array,\n",
        "  length(array_1) as len,\n",
        "  arrayEnumerate(array_1) as enum,\n",
        "  arraySort(array_1) as sorted,\n",
        "  arrayFilter(x -> x > 2, array_1) as filtered,\n",
        "  arrayMap(x -> if(x<3, (x + 2), (x+9)), array_1) as mapped\n",
        "''')\n",
        "\n",
        "# arraySort([func,] arr)\n",
        "# arrayMap(func, arr)"
      ],
      "metadata": {
        "colab": {
          "base_uri": "https://localhost:8080/"
        },
        "id": "CTV9ne19ViDa",
        "outputId": "deab0760-e650-48ba-c52d-8199690a5cc0"
      },
      "execution_count": null,
      "outputs": [
        {
          "output_type": "execute_result",
          "data": {
            "text/plain": [
              "[([1, 2, 3], 1, 3, 6, [3, 2, 1], 3)]"
            ]
          },
          "metadata": {},
          "execution_count": 4
        }
      ]
    },
    {
      "cell_type": "code",
      "source": [
        "# Это очень необычная функция.\n",
        "# Обычные функции не изменяют набор строк, а просто изменяют значения в каждой строке (map).\n",
        "# Агрегатные функции сжимают набор строк (fold или reduce). Функция arrayJoinберет каждую строку и генерирует набор строк (unfold).\n",
        "# Эта функция принимает массив в качестве аргумента и распространяет исходную строку на несколько строк для количества элементов в массиве.\n",
        "# Все значения в столбцах просто копируются, за исключением значений в столбце, где эта функция применяется;\n",
        "# они заменяются соответствующим значением массива.\n",
        "# Сворачивание и разворачивание, антипод arrayGroup\n",
        "\n",
        "client.execute('''\n",
        "SELECT arrayJoin([1,2,3] as num) as dst,\n",
        "  num\n",
        "''')"
      ],
      "metadata": {
        "colab": {
          "base_uri": "https://localhost:8080/"
        },
        "id": "crBNwtA6jHvo",
        "outputId": "6883d818-7908-47b1-ea10-89e7786aabba"
      },
      "execution_count": null,
      "outputs": [
        {
          "output_type": "execute_result",
          "data": {
            "text/plain": [
              "[(1, [1, 2, 3]), (2, [1, 2, 3]), (3, [1, 2, 3])]"
            ]
          },
          "metadata": {},
          "execution_count": 6
        }
      ]
    },
    {
      "cell_type": "code",
      "source": [
        "#Запрос может использовать несколько arrayJoin функций. В этом случае преобразование выполняется несколько раз, а строки умножаются.\n",
        "\n",
        "client.execute('''\n",
        "select\n",
        "  arrayJoin(colors) as color\n",
        "  , arrayJoin(sizes) as size\n",
        "from\n",
        "(\n",
        "  select ['red', 'green', 'black'] as colors\n",
        "    , ['37', '38', '39'] as sizes\n",
        ")\n",
        "''')"
      ],
      "metadata": {
        "colab": {
          "base_uri": "https://localhost:8080/"
        },
        "id": "Pzm-_ctyksi1",
        "outputId": "7ace0b5d-1b25-4d32-a056-e57c95e1845f"
      },
      "execution_count": null,
      "outputs": [
        {
          "output_type": "execute_result",
          "data": {
            "text/plain": [
              "[('red', '37'),\n",
              " ('red', '38'),\n",
              " ('red', '39'),\n",
              " ('green', '37'),\n",
              " ('green', '38'),\n",
              " ('green', '39'),\n",
              " ('black', '37'),\n",
              " ('black', '38'),\n",
              " ('black', '39')]"
            ]
          },
          "metadata": {},
          "execution_count": 17
        }
      ]
    },
    {
      "cell_type": "code",
      "source": [
        "# Обратите внимание на синтаксис ARRAY JOIN в запросе SELECT, который предоставляет более широкие возможности.\n",
        "# ARRAY JOIN Позволяет преобразовывать несколько массивов с одинаковым количеством элементов одновременно.\n",
        "\n",
        "client.execute('''\n",
        "select\n",
        "  size\n",
        "  , centimetre\n",
        "from\n",
        "(\n",
        "  select ['37', '38', '39'] as sizes\n",
        "    , ['23', '24', '25'] as centimetres\n",
        ")\n",
        "ARRAY JOIN\n",
        "    sizes AS size,\n",
        "    centimetres AS centimetre\n",
        "''')"
      ],
      "metadata": {
        "colab": {
          "base_uri": "https://localhost:8080/"
        },
        "id": "a7LoUSWwaHac",
        "outputId": "c9c7ca23-14b6-4d31-c436-7528e44d88e7"
      },
      "execution_count": null,
      "outputs": [
        {
          "output_type": "execute_result",
          "data": {
            "text/plain": [
              "[('37', '23'), ('38', '24'), ('39', '25')]"
            ]
          },
          "metadata": {},
          "execution_count": 19
        }
      ]
    },
    {
      "cell_type": "markdown",
      "source": [
        "### JSON"
      ],
      "metadata": {
        "id": "eyLwt1yCRbJm"
      }
    },
    {
      "cell_type": "markdown",
      "source": [
        "На сегодняшний момент тип данных `JSON` все еще экспериментальный (релиз был в июле 2024). Подробности можно посмотреть на [GitHub](https://github.com/ClickHouse/ClickHouse/pull/66444/). Если хочется потрогать руками, то не забудьте разрешить использование экспериментальных объектов:\n",
        "\n",
        "```\n",
        "SET allow_experimental_object_type = 1;\n",
        "```\n",
        "\n"
      ],
      "metadata": {
        "id": "ozEOuIaZOLSA"
      }
    },
    {
      "cell_type": "code",
      "source": [
        "client.execute('''\n",
        "CREATE TABLE table_json\n",
        "(\n",
        "    id UInt64,\n",
        "    date Date,\n",
        "    json String\n",
        ")\n",
        "ENGINE = TinyLog\n",
        "''')"
      ],
      "metadata": {
        "id": "inS77425SiIv",
        "colab": {
          "base_uri": "https://localhost:8080/"
        },
        "outputId": "4a4813d9-8f01-4fd2-b5f1-2e012204ae45"
      },
      "execution_count": null,
      "outputs": [
        {
          "output_type": "execute_result",
          "data": {
            "text/plain": [
              "[]"
            ]
          },
          "metadata": {},
          "execution_count": 9
        }
      ]
    },
    {
      "cell_type": "code",
      "source": [
        "client.execute('''\n",
        "INSERT INTO table_json (*) VALUES\n",
        "    (1, '2020-01-01','{\"name\":\"Max\",\"age\":30,\"tags\":[\"A\", \"B\"],\"active\":true,\"params\":{\"param1\":\"purchase\",\"param2\":3,\"param3\":[10,24,35,14,12]}}'),\n",
        "    (2, '2020-01-01','{\"name\":\"Dan\",\"age\":45,\"tags\":[\"A\", \"B\"],\"active\":true,\"params\":{\"param1\":\"click\",\"param2\":2,\"param3\":[33,68,50,82,42]}}')\n",
        "''')"
      ],
      "metadata": {
        "id": "E93E2kAdDKZX",
        "colab": {
          "base_uri": "https://localhost:8080/"
        },
        "outputId": "92b5145e-8def-4b0e-da07-6cc2824dbb28"
      },
      "execution_count": null,
      "outputs": [
        {
          "output_type": "execute_result",
          "data": {
            "text/plain": [
              "[]"
            ]
          },
          "metadata": {},
          "execution_count": 10
        }
      ]
    },
    {
      "cell_type": "code",
      "source": [
        "# Существует два набора функций для анализа JSON:\n",
        "# - simpleJSON*( visitParam*), который предназначен для чрезвычайно быстрого анализа ограниченного подмножества JSON.\n",
        "# - JSONExtract*который предназначен для разбора обычного JSON.\n",
        "\n",
        "client.execute('''\n",
        "select id,\n",
        "  isValidJSON(json) as json_valid,\n",
        "  simpleJSONHas(json, 'name'),\n",
        "  visitParamHas(json, 'surname'),\n",
        "  visitParamExtractString(json, 'name') as name,\n",
        "  JSONExtractBool(json, 'active') as active,\n",
        "  JSONExtractInt(json, 'age') as age,\n",
        "  JSONExtractArrayRaw(\n",
        "          JSONExtractString(json, 'params'),\n",
        "             'param3') as param3\n",
        "from table_json\n",
        "''')"
      ],
      "metadata": {
        "colab": {
          "base_uri": "https://localhost:8080/"
        },
        "id": "tFretxy8F7fk",
        "outputId": "f8ce798d-2a2e-4e1a-8deb-5984cf4ea779"
      },
      "execution_count": null,
      "outputs": [
        {
          "output_type": "execute_result",
          "data": {
            "text/plain": [
              "[(1, 1, 1, 0, 'Max', 1, 30, ['10', '24', '35', '14', '12']),\n",
              " (2, 1, 1, 0, 'Dan', 1, 45, ['33', '68', '50', '82', '42'])]"
            ]
          },
          "metadata": {},
          "execution_count": 22
        }
      ]
    },
    {
      "cell_type": "markdown",
      "source": [
        "# AGGREGATE FUNCTIONS"
      ],
      "metadata": {
        "id": "QJHzt7Dkgjo-"
      }
    },
    {
      "cell_type": "markdown",
      "source": [
        "ClickHouse поддерживает классический синтаксис операций для группировки GROUP BY, и HAVING для последующей фильтрации сгруппированных данных, а также множество агрегатных функций чтобы посчитать все на свете"
      ],
      "metadata": {
        "id": "qc-ZX2vr1D31"
      }
    },
    {
      "cell_type": "code",
      "source": [
        "client.execute('''\n",
        "select uniq(name), uniqExact(name)\n",
        "from table1\n",
        "''')\n",
        "\n",
        "# Приближённо вычисляет количество различных значений аргумента.\n",
        "# Вычисляет точное количество различных значений аргументов.\n",
        "# Функция uniqExact расходует больше оперативной памяти, чем функция uniq,\n",
        "# так как размер состояния неограниченно растёт по мере роста количества различных значений."
      ],
      "metadata": {
        "id": "yfCsZaTSk8F1"
      },
      "execution_count": null,
      "outputs": []
    },
    {
      "cell_type": "markdown",
      "source": [
        "Особенностью диалекта ClickHouse является наличие комбинаторов. Очень полезный из них If. При данном дополнении агрегатная функция будет применяться только к тем значениям в строках которой будет возвращаться True. Можно это рассматривать как предварительный WHERE но все вычисления происходят для каждой функции отдельно, или аналогично CASE WHEN внутри агрегатной функции. Однако более нативный вариант для ClickHouse это использование комбинатора. Данная конструкция весьма полезна, и помогает иногда обходиться без дополнительных JOIN операторов."
      ],
      "metadata": {
        "id": "3m0tjWtvm9ID"
      }
    },
    {
      "cell_type": "code",
      "source": [
        "client.execute('''\n",
        "select date,\n",
        "    argMax(name, score),\n",
        "    argMaxIf(name, score, mod(id,2))\n",
        "from table1\n",
        "group by date\n",
        "''')\n",
        "\n",
        "# argMax(arg, val)\n",
        "# argMaxIf(arg, val, cond)"
      ],
      "metadata": {
        "id": "hV8dr7JTkDlh"
      },
      "execution_count": null,
      "outputs": []
    },
    {
      "cell_type": "code",
      "source": [
        "client.execute('''\n",
        "select groupArray(name)\n",
        "from table1\n",
        "''')"
      ],
      "metadata": {
        "colab": {
          "base_uri": "https://localhost:8080/"
        },
        "id": "RLj_Ao3UkMwX",
        "outputId": "5c9fc52c-969a-4ff6-d7a7-7d3276f920bd"
      },
      "execution_count": null,
      "outputs": [
        {
          "output_type": "execute_result",
          "data": {
            "text/plain": [
              "[(['Max', 'Dan', 'Alex', 'Alex', 'Max', 'Dan', 'Dan', 'Alex', 'Max'],)]"
            ]
          },
          "metadata": {},
          "execution_count": 24
        }
      ]
    },
    {
      "cell_type": "code",
      "source": [
        "client.execute('''\n",
        "select arraySum(arrayMap(x -> toInt64(x), list)) as arr_sum\n",
        "from (\n",
        "select JSONExtractArrayRaw(\n",
        "          JSONExtractString(json, 'params'),\n",
        "             'param3') as list\n",
        "from table_json) t1\n",
        "''')"
      ],
      "metadata": {
        "id": "kes0IpWSSifW",
        "colab": {
          "base_uri": "https://localhost:8080/"
        },
        "outputId": "2ec5e567-cb7d-4101-db8b-a7b7639caa90"
      },
      "execution_count": null,
      "outputs": [
        {
          "output_type": "execute_result",
          "data": {
            "text/plain": [
              "[(95,), (275,)]"
            ]
          },
          "metadata": {},
          "execution_count": 29
        }
      ]
    },
    {
      "cell_type": "markdown",
      "source": [
        "Модификатор WITH ROLLUP применяется для подсчета подытогов для ключевых выражений. При этом учитывается порядок следования ключевых выражений в списке GROUP BY. Подытоги подсчитываются в обратном порядке: сначала для последнего ключевого выражения в списке, потом для предпоследнего и так далее вплоть до самого первого ключевого выражения.\n",
        "\n",
        "Строки с подытогами добавляются в конец результирующей таблицы. В колонках, по которым строки уже сгруппированы, указывается значение 0 или пустая строка."
      ],
      "metadata": {
        "id": "TJ7xuYtGmVeZ"
      }
    },
    {
      "cell_type": "code",
      "source": [
        "client.execute('''\n",
        "select date, name, count(1)\n",
        "from table1\n",
        "group by date, name with ROLLUP\n",
        "''')"
      ],
      "metadata": {
        "id": "BBkR06GtmQ_B"
      },
      "execution_count": null,
      "outputs": []
    },
    {
      "cell_type": "markdown",
      "source": [
        "Модификатор WITH CUBE применяется для расчета подытогов по всем комбинациям группировки ключевых выражений в списке GROUP BY.\n",
        "\n",
        "Строки с подытогами добавляются в конец результирующей таблицы. В колонках, по которым выполняется группировка, указывается значение 0 или пустая строка.\n"
      ],
      "metadata": {
        "id": "2Ac-SyUTmWYC"
      }
    },
    {
      "cell_type": "code",
      "source": [
        "client.execute('''\n",
        "select date, name, count(1)\n",
        "from table1\n",
        "group by date, name with CUBE\n",
        "''')"
      ],
      "metadata": {
        "id": "fgPWOXtOmaNl"
      },
      "execution_count": null,
      "outputs": []
    },
    {
      "cell_type": "markdown",
      "source": [
        "# USER DEFINED FUNCTIONS\n",
        "\n"
      ],
      "metadata": {
        "id": "wZfTDy5dNxWY"
      }
    },
    {
      "cell_type": "markdown",
      "source": [
        "ClickHouse может вызывать любую внешнюю исполняемую программу или скрипт для обработки данных. py, sh"
      ],
      "metadata": {
        "id": "l9A-PDyo1Zca"
      }
    },
    {
      "cell_type": "markdown",
      "source": [
        "### Исполняемые пользовательские функции\n",
        "\n",
        "Файл с именем вида `*_function.xm*` кладем в `/etc/clickhouse-server/`\n",
        "\n",
        "Файл с функцией с именем вида `*_function.py` кладем в `/var/lib/clickhouse/user_scripts/` и для всех пользователей даем права на исполнение\n",
        "\n",
        "https://clickhouse.com/docs/en/sql-reference/functions/udf"
      ],
      "metadata": {
        "id": "mizUv7kybtX_"
      }
    },
    {
      "cell_type": "code",
      "source": [
        "! chmod a+x /var/lib/clickhouse/user_scripts/test_function.py"
      ],
      "metadata": {
        "id": "jFJNbhBACFWj"
      },
      "execution_count": null,
      "outputs": []
    },
    {
      "cell_type": "code",
      "source": [
        "!clickhouse-client --user default --password 12345 --query \"SELECT test_function_python(toUInt64(200.2));\""
      ],
      "metadata": {
        "colab": {
          "base_uri": "https://localhost:8080/"
        },
        "id": "K-Grko0oDJCb",
        "outputId": "a2566d30-c817-4f72-f02e-270ea121af98"
      },
      "execution_count": null,
      "outputs": [
        {
          "output_type": "stream",
          "name": "stdout",
          "text": [
            "Value 200\n"
          ]
        }
      ]
    },
    {
      "cell_type": "markdown",
      "source": [
        "### Пользовательские функции SQL"
      ],
      "metadata": {
        "id": "nWxaZi4OdhEz"
      }
    },
    {
      "cell_type": "markdown",
      "source": [
        "Создает пользовательскую функцию (UDF) из лямбда-выражения. Выражение должно состоять из параметров функции, констант, операторов или других вызовов функций.\n",
        "\n",
        "Функция может иметь произвольное количество параметров.\n",
        "\n",
        "Есть несколько ограничений:\n",
        "\n",
        "Имя функции должно быть уникальным среди пользовательских и системных функций.\n",
        "Рекурсивные функции не допускаются.\n",
        "Все переменные, используемые функцией, должны быть указаны в списке ее параметров.\n",
        "Если какое-либо ограничение нарушается, возникает исключение.\n",
        "\n",
        "Посмотреть все данные о функциях можно в system.functions"
      ],
      "metadata": {
        "id": "4AEvFdEy13hZ"
      }
    },
    {
      "cell_type": "code",
      "source": [
        "client.execute(\"CREATE FUNCTION linearEquation AS (x, k, b) -> k*x + b;\")\n",
        "client.execute(\"SELECT number, linearEquation(number, 2, 1) FROM numbers(3);\")\n",
        "# numbers(N) - возвращает таблицу с единственным столбцом number (UInt64), содержащим натуральные числа от 0 до N-1"
      ],
      "metadata": {
        "colab": {
          "base_uri": "https://localhost:8080/"
        },
        "id": "A5tPik7-JV1L",
        "outputId": "e2b229bd-ae93-4fc3-a4e9-43cb1317681b"
      },
      "execution_count": null,
      "outputs": [
        {
          "output_type": "execute_result",
          "data": {
            "text/plain": [
              "[(0, 1), (1, 3), (2, 5)]"
            ]
          },
          "metadata": {},
          "execution_count": 14
        }
      ]
    },
    {
      "cell_type": "code",
      "source": [
        "# Просмотр всех UDF\n",
        "client.execute('''\n",
        "SELECT name, create_query FROM system.functions\n",
        "WHERE origin = 'SQLUserDefined'\n",
        "''')"
      ],
      "metadata": {
        "colab": {
          "base_uri": "https://localhost:8080/"
        },
        "id": "NIA6KITeeUfB",
        "outputId": "d3d93033-1c0e-42b8-86e2-b65ecfd6314d"
      },
      "execution_count": null,
      "outputs": [
        {
          "output_type": "execute_result",
          "data": {
            "text/plain": [
              "[('linearEquation',\n",
              "  'CREATE FUNCTION linearEquation AS (x, k, b) -> ((k * x) + b)')]"
            ]
          },
          "metadata": {},
          "execution_count": 15
        }
      ]
    },
    {
      "cell_type": "code",
      "source": [
        "client.execute(\"DROP FUNCTION linearEquation;\")"
      ],
      "metadata": {
        "colab": {
          "base_uri": "https://localhost:8080/"
        },
        "id": "BWAQdy5NevBd",
        "outputId": "176690ff-5832-43a9-e4e1-838313d3cfe2"
      },
      "execution_count": null,
      "outputs": [
        {
          "output_type": "execute_result",
          "data": {
            "text/plain": [
              "[]"
            ]
          },
          "metadata": {},
          "execution_count": 16
        }
      ]
    },
    {
      "cell_type": "code",
      "source": [
        "client.execute(\"select * from system.functions where name = 'test_function_python'\")"
      ],
      "metadata": {
        "colab": {
          "base_uri": "https://localhost:8080/"
        },
        "id": "-7JlFxDrPq9t",
        "outputId": "f47d1b54-cede-4da7-edd4-1fe4c70eaafb"
      },
      "execution_count": null,
      "outputs": [
        {
          "output_type": "execute_result",
          "data": {
            "text/plain": [
              "[('test_function_python',\n",
              "  0,\n",
              "  0,\n",
              "  '',\n",
              "  '',\n",
              "  'ExecutableUserDefined',\n",
              "  '',\n",
              "  '',\n",
              "  '',\n",
              "  '',\n",
              "  '',\n",
              "  '')]"
            ]
          },
          "metadata": {},
          "execution_count": 9
        }
      ]
    }
  ]
}